{
 "cells": [
  {
   "cell_type": "code",
   "execution_count": 20,
   "metadata": {},
   "outputs": [],
   "source": [
    "from shapely import LineString,Point, BufferCapStyle, BufferJoinStyle,MultiPoint, Point\n",
    "import matplotlib.pyplot as plt\n",
    "import geopandas as gpd\n",
    "\n",
    "\n",
    "def show(e):\n",
    "    p = gpd.GeoSeries(e)\n",
    "    p.plot()\n",
    "    plt.show(block=False)"
   ]
  },
  {
   "cell_type": "code",
   "execution_count": 2,
   "metadata": {},
   "outputs": [
    {
     "data": {
      "image/png": "[encoded data removed]",
      "text/plain": [
       "<Figure size 640x480 with 1 Axes>"
      ]
     },
     "metadata": {},
     "output_type": "display_data"
    }
   ],
   "source": [
    "l = LineString([(0, 0), (0, 1), (1, 1)])\n",
    "\n",
    "a = l.buffer(0.5, cap_style=BufferCapStyle.round, join_style=BufferJoinStyle.round)\n",
    "\n",
    "show(a)"
   ]
  },
  {
   "cell_type": "code",
   "execution_count": 3,
   "metadata": {},
   "outputs": [
    {
     "name": "stdout",
     "output_type": "stream",
     "text": [
      "POINT (3.5355339059327378 3.5355339059327378)\n"
     ]
    }
   ],
   "source": [
    "c=Point(0,0).buffer(5).boundary\n",
    "l = LineString([Point(-10,-10),Point(0,0),Point(2,2), Point(10,10)])\n",
    "print(MultiPoint(c.intersection(l)).geoms[0])"
   ]
  },
  {
   "cell_type": "code",
   "execution_count": 4,
   "metadata": {},
   "outputs": [],
   "source": [
    "from typing import Any, ClassVar, Dict, Tuple\n",
    "\n",
    "# Example from https://github.com/shapely/shapely/issues/1233\n",
    "class PropertyPoint(Point):\n",
    "\n",
    "    _id_to_attrs: ClassVar[Dict[str, Any]] = {}\n",
    "\n",
    "    __slots__ = Point.__slots__  # slots must be the same for assigning __class__ - https://stackoverflow.com/a/52140968\n",
    "\n",
    "    name: str  # For documentation generation and static type checking\n",
    "\n",
    "    def __init__(self, coord: Tuple[float, float], name: str) -> None:\n",
    "        self._id_to_attrs[id(self)] = dict(name=name)\n",
    "\n",
    "    def __new__(cls, coord: Tuple[float, float], *args, **kwargs) -> \"PropertyPoint\":\n",
    "        point = super().__new__(cls, coord)\n",
    "        point.__class__ = cls\n",
    "        return point\n",
    "\n",
    "    def __del__(self) -> None:\n",
    "        del self._id_to_attrs[id(self)]\n",
    "\n",
    "    def __getattr__(self, name: str) -> Any:\n",
    "        try:\n",
    "            return PropertyPoint._id_to_attrs[id(self)][name]\n",
    "        except KeyError as e:\n",
    "            raise AttributeError(str(e)) from None\n",
    "\n",
    "    def __str__(self) -> str:\n",
    "        return f\"{self.name}, {self.wkt}\"\n"
   ]
  },
  {
   "cell_type": "code",
   "execution_count": 5,
   "metadata": {},
   "outputs": [],
   "source": [
    "class OrientedPoint1(Point):\n",
    "\n",
    "    _id_to_attrs: ClassVar[Dict[str, Any]] = {}\n",
    "\n",
    "    __slots__ = (\n",
    "        Point.__slots__\n",
    "    )  # slots must be the same for assigning __class__ - https://stackoverflow.com/a/52140968\n",
    "\n",
    "    theta: float  # For documentation generation and static type checking\n",
    "\n",
    "    def __init__(\n",
    "        self, coord: Tuple[float, float], theta: float = 0.0\n",
    "    ) -> (\n",
    "        None\n",
    "    ):  # if theta is not optional or if the structure of the arguments change (eg: self, x, y, theta) then MultiPoint becomes impossible with OrientedPoint\n",
    "        self._id_to_attrs[id(self)] = dict(theta=theta)\n",
    "\n",
    "    def __new__(cls, coord: Tuple[float, float], *args, **kwargs) -> \"OrientedPoint1\":\n",
    "        point = super().__new__(cls, coord)\n",
    "        point.__class__ = cls\n",
    "        return point\n",
    "\n",
    "    def __del__(self) -> None:\n",
    "        del self._id_to_attrs[id(self)]\n",
    "\n",
    "    def __getattr__(self, name: str) -> Any:\n",
    "        try:\n",
    "            return OrientedPoint1._id_to_attrs[id(self)][name]\n",
    "        except KeyError as e:\n",
    "            raise AttributeError(str(e)) from None\n",
    "\n",
    "    def __str__(self) -> str:\n",
    "        return f\"{self.wkt}, theta: {self.theta}\"\n"
   ]
  },
  {
   "cell_type": "code",
   "execution_count": 6,
   "metadata": {},
   "outputs": [],
   "source": [
    "\n",
    "class OrientedPoint2(Point):\n",
    "\n",
    "    _id_to_attrs: ClassVar[Dict[str, Any]] = {}\n",
    "\n",
    "    __slots__ = (\n",
    "        Point.__slots__\n",
    "    )  # slots must be the same for assigning __class__ - https://stackoverflow.com/a/52140968\n",
    "\n",
    "    theta: float  # For documentation generation and static type checking\n",
    "\n",
    "    def __init__(\n",
    "        self, coord: Tuple[float, float], theta: float = 0.0\n",
    "    ) -> (\n",
    "        None\n",
    "    ):  # if theta is not optional or if the structure of the arguments change (eg: self, x, y, theta) then MultiPoint becomes impossible with OrientedPoint\n",
    "        self._id_to_attrs[str(id(self))] = dict(theta=theta)\n",
    "\n",
    "    def __new__(cls, coord: Tuple[float, float], *args, **kwargs) -> \"OrientedPoint2\":\n",
    "        point = super().__new__(cls, coord)\n",
    "        point.__class__ = cls\n",
    "        return point\n",
    "\n",
    "    def __del__(self) -> None:\n",
    "        del self._id_to_attrs[str(id(self))]\n",
    "\n",
    "    def __getattr__(self, name: str) -> Any:\n",
    "        try:\n",
    "            return OrientedPoint2._id_to_attrs[str(id(self))][name]\n",
    "        except KeyError as e:\n",
    "            raise AttributeError(str(e)) from None\n",
    "\n",
    "    def __str__(self) -> str:\n",
    "        return f\"{self.wkt}, theta: {self.theta}\"\n"
   ]
  },
  {
   "cell_type": "code",
   "execution_count": 7,
   "metadata": {},
   "outputs": [],
   "source": [
    "\n",
    "class OrientedPoint3(Point):\n",
    "\n",
    "    _id_to_attrs: ClassVar[Dict[str, Any]] = {}\n",
    "\n",
    "    __slots__ = (\n",
    "        Point.__slots__\n",
    "    )  # slots must be the same for assigning __class__ - https://stackoverflow.com/a/52140968\n",
    "\n",
    "    theta: float  # For documentation generation and static type checking\n",
    "\n",
    "    def __init__(\n",
    "        self,x:float|Tuple[float, float],y:float|None=None, theta: float = 0.0\n",
    "    ) -> (\n",
    "        None\n",
    "    ):  # if theta is not optional or if the structure of the arguments change (eg: self, x, y, theta) then MultiPoint becomes impossible with OrientedPoint\n",
    "        self._id_to_attrs[id(self)] = dict(theta=(theta if not isinstance(x,Tuple) else y))\n",
    "\n",
    "    def __new__(cls, x:float|Tuple[float, float],y:float|None=None, *args, **kwargs) -> \"OrientedPoint3\":\n",
    "        if isinstance(x,Tuple):\n",
    "            point = super().__new__(cls, x)\n",
    "        else:\n",
    "            point = super().__new__(cls, x,y)\n",
    "\n",
    "        point.__class__ = cls\n",
    "        return point\n",
    "\n",
    "    def __del__(self) -> None:\n",
    "        del self._id_to_attrs[id(self)]\n",
    "\n",
    "    def __getattr__(self, name: str) -> Any:\n",
    "        try:\n",
    "            return OrientedPoint3._id_to_attrs[id(self)][name]\n",
    "        except KeyError as e:\n",
    "            raise AttributeError(str(e)) from None\n",
    "\n",
    "    def __str__(self) -> str:\n",
    "        return f\"{self.wkt}, theta: {self.theta}\"\n",
    "\n",
    "    @classmethod\n",
    "    def from_Point(cls, point: Point, theta: float = 0.0):\n",
    "        return cls((point.x, point.y), theta)\n"
   ]
  },
  {
   "cell_type": "code",
   "execution_count": 8,
   "metadata": {},
   "outputs": [],
   "source": [
    "\n",
    "class OrientedPoint4(Point):\n",
    "\n",
    "    _id_to_attrs: ClassVar[Dict[str, Any]] = {}\n",
    "\n",
    "    __slots__ = (\n",
    "        Point.__slots__\n",
    "    )  # slots must be the same for assigning __class__ - https://stackoverflow.com/a/52140968\n",
    "\n",
    "    theta: float  # For documentation generation and static type checking\n",
    "\n",
    "    def __init__(\n",
    "        self,x_or_coords:float|Tuple[float, float],y:float|None=None, theta: float = 0.0\n",
    "    ) -> (\n",
    "        None\n",
    "    ):  # if theta is not optional or if the structure of the arguments change (eg: self, x, y, theta) then MultiPoint becomes impossible with OrientedPoint\n",
    "        self._id_to_attrs[str(id(self))] = dict(theta=(theta if not isinstance(x_or_coords,Tuple) else (0.0 if y is None else y)))\n",
    "\n",
    "    def __new__(cls, x_or_coords:float|Tuple[float, float],y:float|None=None, *args, **kwargs) -> \"OrientedPoint4\":\n",
    "        if isinstance(x_or_coords,Tuple):\n",
    "            point = super().__new__(cls, x_or_coords)\n",
    "        else:\n",
    "            point = super().__new__(cls, x_or_coords,y)\n",
    "\n",
    "        point.__class__ = cls\n",
    "        return point\n",
    "\n",
    "    def __del__(self) -> None:\n",
    "        del self._id_to_attrs[str(id(self))]\n",
    "\n",
    "    def __getattr__(self, name: str) -> Any:\n",
    "        try:\n",
    "            return OrientedPoint4._id_to_attrs[str(id(self))][name]\n",
    "        except KeyError as e:\n",
    "            raise AttributeError(str(e)) from None\n",
    "\n",
    "    def __str__(self) -> str:\n",
    "        return f\"{self.wkt}, theta: {self.theta}\"\n",
    "\n",
    "    @classmethod\n",
    "    def from_Point(cls, point: Point, theta: float = 0.0):\n",
    "        return cls((point.x, point.y), theta)\n"
   ]
  },
  {
   "cell_type": "code",
   "execution_count": 9,
   "metadata": {},
   "outputs": [
    {
     "name": "stdout",
     "output_type": "stream",
     "text": [
      "demo, POINT (1 2)\n",
      "demo\n",
      "POINT (1 2), theta: 10\n",
      "1.0 2.0 10\n",
      "True\n",
      "True\n",
      "(<POINT (1 2)>, <POINT (5 6)>)\n"
     ]
    }
   ],
   "source": [
    "from shapely.ops import nearest_points\n",
    "from shapely import Polygon\n",
    "\n",
    "demo = PropertyPoint((1,2),\"demo\")\n",
    "p1 = OrientedPoint3((1,2),10)\n",
    "\n",
    "p2 = Point(5,6)\n",
    "p3 = Point(5,7)\n",
    "pFrom = OrientedPoint3.from_Point(p3)\n",
    "print(demo)\n",
    "print(demo.name)\n",
    "print(p1)\n",
    "\n",
    "print(p1.x, p1.y, p1.theta)\n",
    "\n",
    "poly = Polygon([[-10,-10],[-10,10],[10,10],[10,-10]])\n",
    "print(poly.contains(p2))\n",
    "print(poly.contains(p1))\n",
    "print(nearest_points(p1, MultiPoint([p2,p3])))\n"
   ]
  },
  {
   "cell_type": "code",
   "execution_count": 10,
   "metadata": {},
   "outputs": [
    {
     "name": "stdout",
     "output_type": "stream",
     "text": [
      "POINT (1 2)\n",
      "POINT (5 6)\n",
      "MULTIPOINT (1 2, 5 6)\n"
     ]
    }
   ],
   "source": [
    "# MultiPoint (needs theta optional in constructor, because it re-constructs its elements; for example, doesn't work with the example class):\n",
    "p1copy = Point(p1)\n",
    "coll = MultiPoint([p1,p2])\n",
    "print(coll.geoms[0])\n",
    "print(coll.geoms[1])\n",
    "\n",
    "print(coll)\n"
   ]
  },
  {
   "cell_type": "code",
   "execution_count": 11,
   "metadata": {},
   "outputs": [
    {
     "name": "stdout",
     "output_type": "stream",
     "text": [
      "Tuple ok\n",
      "OrientedPoint1 not fully valid: 'int' object is not iterable\n",
      "Tuple ok\n",
      "OrientedPoint2 not fully valid: 'int' object is not iterable\n",
      "OrientedPoint3 not fully valid: Tuple with default theta: theta=None\n",
      "Tuple ok\n",
      "x,y ok\n",
      "Operations ok\n",
      "OrientedPoint4 fully valid!\n"
     ]
    }
   ],
   "source": [
    "for PointType in [OrientedPoint1,OrientedPoint2,OrientedPoint3, OrientedPoint4]:\n",
    "    try:\n",
    "        # Using tuples coords\n",
    "        p1 = PointType((1,2),3)\n",
    "        assert p1.x == 1 and p1.y==2 and p1.theta==3, \"Tuple with explicit theta\"\n",
    "        p1coll = MultiPoint([p1,p1])\n",
    "        p1 = PointType((1,2))\n",
    "        assert p1.x == 1 and p1.y==2 and p1.theta==0, f\"Tuple with default theta: theta={p1.theta}\"\n",
    "        p1coll = MultiPoint([p1,p1])\n",
    "        print(\"Tuple ok\")\n",
    "\n",
    "        # Using x,y coords\n",
    "        p2 = PointType(4,5,6)\n",
    "        assert p2.x == 4 and p2.y==5 and p2.theta==6, \"Separate with explicit theta\"\n",
    "        p2coll = MultiPoint([p2,p2])\n",
    "        p2 = PointType(4,5)\n",
    "        assert p2.x == 4 and p2.y==5 and p2.theta==0, \"Separate with default theta\"\n",
    "        p2coll = MultiPoint([p2,p2])\n",
    "        print(\"x,y ok\")\n",
    "\n",
    "        assert nearest_points(p1coll,p2coll)[0].distance(p2)==p2.distance(p1)\n",
    "        print(\"Operations ok\")\n",
    "\n",
    "        print(f\"{PointType.__name__} fully valid!\")\n",
    "\n",
    "    except Exception as e:\n",
    "        print(f\"{PointType.__name__} not fully valid: {e}\")"
   ]
  },
  {
   "cell_type": "code",
   "execution_count": 12,
   "metadata": {},
   "outputs": [
    {
     "ename": "KeyboardInterrupt",
     "evalue": "",
     "output_type": "error",
     "traceback": [
      "\u001b[0;31m---------------------------------------------------------------------------\u001b[0m",
      "\u001b[0;31mKeyboardInterrupt\u001b[0m                         Traceback (most recent call last)",
      "Cell \u001b[0;32mIn[12], line 14\u001b[0m\n\u001b[1;32m     12\u001b[0m statement_tuple \u001b[38;5;241m=\u001b[39m \u001b[38;5;124m\"\u001b[39m\u001b[38;5;124mp=PointType((13.24,2.5421), 10.0)\u001b[39m\u001b[38;5;124m\"\u001b[39m\n\u001b[1;32m     13\u001b[0m statement_xy \u001b[38;5;241m=\u001b[39m \u001b[38;5;124m\"\u001b[39m\u001b[38;5;124mp=PointType((13.24,2.5421), 10.0)\u001b[39m\u001b[38;5;124m\"\u001b[39m\n\u001b[0;32m---> 14\u001b[0m \u001b[38;5;28mprint\u001b[39m(\u001b[43mtimeit\u001b[49m\u001b[38;5;241;43m.\u001b[39;49m\u001b[43mtimeit\u001b[49m\u001b[43m(\u001b[49m\u001b[43mstmt\u001b[49m\u001b[38;5;241;43m=\u001b[39;49m\u001b[43mstatement_base\u001b[49m\u001b[43m,\u001b[49m\u001b[43m \u001b[49m\u001b[43msetup\u001b[49m\u001b[38;5;241;43m=\u001b[39;49m\u001b[43msetup_base\u001b[49m\u001b[43m,\u001b[49m\u001b[43m \u001b[49m\u001b[43mnumber\u001b[49m\u001b[38;5;241;43m=\u001b[39;49m\u001b[38;5;241;43m10000000\u001b[39;49m\u001b[43m)\u001b[49m)\n\u001b[1;32m     15\u001b[0m \u001b[38;5;28mprint\u001b[39m(timeit\u001b[38;5;241m.\u001b[39mtimeit(stmt\u001b[38;5;241m=\u001b[39mstatement_tuple, setup\u001b[38;5;241m=\u001b[39msetup, number\u001b[38;5;241m=\u001b[39m\u001b[38;5;241m10000000\u001b[39m))\n\u001b[1;32m     16\u001b[0m \u001b[38;5;28mprint\u001b[39m(timeit\u001b[38;5;241m.\u001b[39mtimeit(stmt\u001b[38;5;241m=\u001b[39mstatement_tuple, setup\u001b[38;5;241m=\u001b[39msetup2, number\u001b[38;5;241m=\u001b[39m\u001b[38;5;241m10000000\u001b[39m))\n",
      "File \u001b[0;32m/opt/homebrew/Cellar/python@3.11/3.11.8/Frameworks/Python.framework/Versions/3.11/lib/python3.11/timeit.py:237\u001b[0m, in \u001b[0;36mtimeit\u001b[0;34m(stmt, setup, timer, number, globals)\u001b[0m\n\u001b[1;32m    234\u001b[0m \u001b[38;5;28;01mdef\u001b[39;00m \u001b[38;5;21mtimeit\u001b[39m(stmt\u001b[38;5;241m=\u001b[39m\u001b[38;5;124m\"\u001b[39m\u001b[38;5;124mpass\u001b[39m\u001b[38;5;124m\"\u001b[39m, setup\u001b[38;5;241m=\u001b[39m\u001b[38;5;124m\"\u001b[39m\u001b[38;5;124mpass\u001b[39m\u001b[38;5;124m\"\u001b[39m, timer\u001b[38;5;241m=\u001b[39mdefault_timer,\n\u001b[1;32m    235\u001b[0m            number\u001b[38;5;241m=\u001b[39mdefault_number, \u001b[38;5;28mglobals\u001b[39m\u001b[38;5;241m=\u001b[39m\u001b[38;5;28;01mNone\u001b[39;00m):\n\u001b[1;32m    236\u001b[0m \u001b[38;5;250m    \u001b[39m\u001b[38;5;124;03m\"\"\"Convenience function to create Timer object and call timeit method.\"\"\"\u001b[39;00m\n\u001b[0;32m--> 237\u001b[0m     \u001b[38;5;28;01mreturn\u001b[39;00m \u001b[43mTimer\u001b[49m\u001b[43m(\u001b[49m\u001b[43mstmt\u001b[49m\u001b[43m,\u001b[49m\u001b[43m \u001b[49m\u001b[43msetup\u001b[49m\u001b[43m,\u001b[49m\u001b[43m \u001b[49m\u001b[43mtimer\u001b[49m\u001b[43m,\u001b[49m\u001b[43m \u001b[49m\u001b[38;5;28;43mglobals\u001b[39;49m\u001b[43m)\u001b[49m\u001b[38;5;241;43m.\u001b[39;49m\u001b[43mtimeit\u001b[49m\u001b[43m(\u001b[49m\u001b[43mnumber\u001b[49m\u001b[43m)\u001b[49m\n",
      "File \u001b[0;32m/opt/homebrew/Cellar/python@3.11/3.11.8/Frameworks/Python.framework/Versions/3.11/lib/python3.11/timeit.py:180\u001b[0m, in \u001b[0;36mTimer.timeit\u001b[0;34m(self, number)\u001b[0m\n\u001b[1;32m    178\u001b[0m gc\u001b[38;5;241m.\u001b[39mdisable()\n\u001b[1;32m    179\u001b[0m \u001b[38;5;28;01mtry\u001b[39;00m:\n\u001b[0;32m--> 180\u001b[0m     timing \u001b[38;5;241m=\u001b[39m \u001b[38;5;28;43mself\u001b[39;49m\u001b[38;5;241;43m.\u001b[39;49m\u001b[43minner\u001b[49m\u001b[43m(\u001b[49m\u001b[43mit\u001b[49m\u001b[43m,\u001b[49m\u001b[43m \u001b[49m\u001b[38;5;28;43mself\u001b[39;49m\u001b[38;5;241;43m.\u001b[39;49m\u001b[43mtimer\u001b[49m\u001b[43m)\u001b[49m\n\u001b[1;32m    181\u001b[0m \u001b[38;5;28;01mfinally\u001b[39;00m:\n\u001b[1;32m    182\u001b[0m     \u001b[38;5;28;01mif\u001b[39;00m gcold:\n",
      "File \u001b[0;32m<timeit-src>:6\u001b[0m, in \u001b[0;36minner\u001b[0;34m(_it, _timer)\u001b[0m\n",
      "File \u001b[0;32m/opt/homebrew/lib/python3.11/site-packages/shapely/geometry/point.py:78\u001b[0m, in \u001b[0;36mPoint.__new__\u001b[0;34m(self, *args)\u001b[0m\n\u001b[1;32m     76\u001b[0m \u001b[38;5;28;01mif\u001b[39;00m \u001b[38;5;129;01mnot\u001b[39;00m np\u001b[38;5;241m.\u001b[39missubdtype(coords\u001b[38;5;241m.\u001b[39mdtype, np\u001b[38;5;241m.\u001b[39mnumber):\n\u001b[1;32m     77\u001b[0m     coords \u001b[38;5;241m=\u001b[39m [\u001b[38;5;28mfloat\u001b[39m(c) \u001b[38;5;28;01mfor\u001b[39;00m c \u001b[38;5;129;01min\u001b[39;00m coords]\n\u001b[0;32m---> 78\u001b[0m geom \u001b[38;5;241m=\u001b[39m \u001b[43mshapely\u001b[49m\u001b[38;5;241;43m.\u001b[39;49m\u001b[43mpoints\u001b[49m\u001b[43m(\u001b[49m\u001b[43mcoords\u001b[49m\u001b[43m)\u001b[49m\n\u001b[1;32m     79\u001b[0m \u001b[38;5;28;01mif\u001b[39;00m \u001b[38;5;129;01mnot\u001b[39;00m \u001b[38;5;28misinstance\u001b[39m(geom, Point):\n\u001b[1;32m     80\u001b[0m     \u001b[38;5;28;01mraise\u001b[39;00m \u001b[38;5;167;01mValueError\u001b[39;00m(\u001b[38;5;124m\"\u001b[39m\u001b[38;5;124mInvalid values passed to Point constructor\u001b[39m\u001b[38;5;124m\"\u001b[39m)\n",
      "File \u001b[0;32m/opt/homebrew/lib/python3.11/site-packages/shapely/decorators.py:77\u001b[0m, in \u001b[0;36mmultithreading_enabled.<locals>.wrapped\u001b[0;34m(*args, **kwargs)\u001b[0m\n\u001b[1;32m     75\u001b[0m     \u001b[38;5;28;01mfor\u001b[39;00m arr \u001b[38;5;129;01min\u001b[39;00m array_args:\n\u001b[1;32m     76\u001b[0m         arr\u001b[38;5;241m.\u001b[39mflags\u001b[38;5;241m.\u001b[39mwriteable \u001b[38;5;241m=\u001b[39m \u001b[38;5;28;01mFalse\u001b[39;00m\n\u001b[0;32m---> 77\u001b[0m     \u001b[38;5;28;01mreturn\u001b[39;00m \u001b[43mfunc\u001b[49m\u001b[43m(\u001b[49m\u001b[38;5;241;43m*\u001b[39;49m\u001b[43margs\u001b[49m\u001b[43m,\u001b[49m\u001b[43m \u001b[49m\u001b[38;5;241;43m*\u001b[39;49m\u001b[38;5;241;43m*\u001b[39;49m\u001b[43mkwargs\u001b[49m\u001b[43m)\u001b[49m\n\u001b[1;32m     78\u001b[0m \u001b[38;5;28;01mfinally\u001b[39;00m:\n\u001b[1;32m     79\u001b[0m     \u001b[38;5;28;01mfor\u001b[39;00m arr, old_flag \u001b[38;5;129;01min\u001b[39;00m \u001b[38;5;28mzip\u001b[39m(array_args, old_flags):\n",
      "File \u001b[0;32m/opt/homebrew/lib/python3.11/site-packages/shapely/creation.py:74\u001b[0m, in \u001b[0;36mpoints\u001b[0;34m(coords, y, z, indices, out, **kwargs)\u001b[0m\n\u001b[1;32m     72\u001b[0m coords \u001b[38;5;241m=\u001b[39m _xyz_to_coords(coords, y, z)\n\u001b[1;32m     73\u001b[0m \u001b[38;5;28;01mif\u001b[39;00m indices \u001b[38;5;129;01mis\u001b[39;00m \u001b[38;5;28;01mNone\u001b[39;00m:\n\u001b[0;32m---> 74\u001b[0m     \u001b[38;5;28;01mreturn\u001b[39;00m \u001b[43mlib\u001b[49m\u001b[38;5;241;43m.\u001b[39;49m\u001b[43mpoints\u001b[49m\u001b[43m(\u001b[49m\u001b[43mcoords\u001b[49m\u001b[43m,\u001b[49m\u001b[43m \u001b[49m\u001b[43mout\u001b[49m\u001b[38;5;241;43m=\u001b[39;49m\u001b[43mout\u001b[49m\u001b[43m,\u001b[49m\u001b[43m \u001b[49m\u001b[38;5;241;43m*\u001b[39;49m\u001b[38;5;241;43m*\u001b[39;49m\u001b[43mkwargs\u001b[49m\u001b[43m)\u001b[49m\n\u001b[1;32m     75\u001b[0m \u001b[38;5;28;01melse\u001b[39;00m:\n\u001b[1;32m     76\u001b[0m     \u001b[38;5;28;01mreturn\u001b[39;00m simple_geometries_1d(coords, indices, GeometryType\u001b[38;5;241m.\u001b[39mPOINT, out\u001b[38;5;241m=\u001b[39mout)\n",
      "\u001b[0;31mKeyboardInterrupt\u001b[0m: "
     ]
    }
   ],
   "source": [
    "# The version with explicit conversion to string for dict keys (which solves an ide warning) is a bit slower •`_´•\n",
    "# The version that supports both (x,y),theta and x,y,theta parameters is also a bit slower\n",
    "\n",
    "import timeit\n",
    "\n",
    "setup_base = \"from __main__ import Point as PointType\"\n",
    "setup = \"from __main__ import OrientedPoint1 as PointType\"\n",
    "setup2 = \"from __main__ import OrientedPoint2 as PointType\"\n",
    "setup3 = \"from __main__ import OrientedPoint3 as PointType\"\n",
    "setup4 = \"from __main__ import OrientedPoint4 as PointType\"\n",
    "statement_base = \"p=PointType((13.24,2.5421))\"\n",
    "statement_tuple = \"p=PointType((13.24,2.5421), 10.0)\"\n",
    "statement_xy = \"p=PointType((13.24,2.5421), 10.0)\"\n",
    "print(timeit.timeit(stmt=statement_base, setup=setup_base, number=10000000))\n",
    "print(timeit.timeit(stmt=statement_tuple, setup=setup, number=10000000))\n",
    "print(timeit.timeit(stmt=statement_tuple, setup=setup2, number=10000000))\n",
    "print(timeit.timeit(stmt=statement_tuple, setup=setup3, number=10000000))\n",
    "print(timeit.timeit(stmt=statement_xy, setup=setup3, number=10000000))\n",
    "print(timeit.timeit(stmt=statement_tuple, setup=setup4, number=10000000))"
   ]
  },
  {
   "cell_type": "code",
   "execution_count": 21,
   "metadata": {},
   "outputs": [
    {
     "name": "stdout",
     "output_type": "stream",
     "text": [
      "4.695875315350411\n",
      "(<POINT (22.5 22.5)>, <POINT (114.286 270.564)>)\n"
     ]
    },
    {
     "data": {
      "image/png": "[encoded data removed]",
      "text/plain": [
       "<Figure size 640x480 with 1 Axes>"
      ]
     },
     "metadata": {},
     "output_type": "display_data"
    },
    {
     "data": {
      "image/png": "[encoded data removed]",
      "text/plain": [
       "<Figure size 640x480 with 1 Axes>"
      ]
     },
     "metadata": {},
     "output_type": "display_data"
    }
   ],
   "source": [
    "from shapely import Point, MultiPoint, distance\n",
    "from shapely.ops import nearest_points\n",
    "import numpy as np\n",
    "\n",
    "string_coords = \"56.63570259284123 287.61139846734574, 87.46532586679751 289.92205061245596, 88.67644827824887 288.1823498253245, 90.24462666634406 287.8900378957956, 91.6052422924872 286.8155541348611, 93.18836928355378 286.6035992004456, 94.5376481246475 285.5130679460328, 95.71078476644747 283.83912390013984, 97.00461705577558 282.6411642562456, 98.51570580622813 282.2036306523335, 99.90567223854826 281.3752441047217, 101.20099643003763 280.2526006870138, 102.43030694821871 278.9314904803468, 104.03707476134552 278.84489548138606, 105.3677544726399 277.8922184966924, 106.41127602114605 276.0770317221201, 108.16787167570301 276.4390000818214, 109.18363706718631 274.6140496823348, 110.54867682984914 273.82276112742034, 111.80277899612722 272.7429022977184, 113.32056861818624 272.4088455217617, 114.2860732991372 270.56363447374827, 115.72287954117465 270.0272605796211, 118.3017391704616 272.4706448916743, 123.1319545729018 280.57403921905325, 125.14281686783097 281.2875745606799, 126.37976639216268 280.03887854969065, 128.0649703059276 279.8932474566902, 129.5556408837832 279.2768224489017, 130.7305764753188 277.9151501567394, 132.17406719214176 277.1897764251918, 133.36842240880182 275.9082798352263, 135.16079778470998 275.99221143120405, 136.5914414126484 275.24181732820716, 138.09667225579454 274.66694069040057, 139.59907090346584 274.0831027584028, 140.76061230333875 272.765180997731, 142.29623950220963 272.25560254202355, 144.09255196351526 272.27610270067873, 145.36540905694278 271.20634867457585, 146.98467401915602 270.8473698424943, 148.46789320343328 270.21050944510705, 149.86001110907176 269.38515091766317, 151.05756964810894 268.19948008929987, 152.4331876570321 267.36162115133675, 153.80710755562612 266.5140159398685, 155.50714734911122 266.2752624537084, 156.77318872511552 265.237445408324, 158.13317472610086 264.36551044681755, 159.68156527235323 263.835827299013, 161.57780094080468 263.90283487637186, 163.02927278834053 263.17655324788427, 163.96413860819874 261.5831396422184, 165.91365846544292 261.70227666353077, 167.0422585459219 260.4371599729778, 168.3670447278534 259.509891076151, 169.6859552425289 258.575287506627, 171.10929311799543 257.8001513058083, 172.9022373817681 257.6084076817101, 173.8823189976013 256.1449231129815, 175.5672511873994 255.76254867409295, 176.5297725902954 254.28807640029382, 178.65275967938365 254.55257034041463, 179.9991737733111 253.6408445467931, 181.3935608756041 252.80607147631403, 182.8407938638584 252.04483183706765, 184.17255828153267 251.10880100885097, 186.07751097867597 250.98062916146992, 187.69297769051443 250.43317029721936, 188.89697767749362 249.3076915629628\"\n",
    "coords = [[float(val) for val in point.split(\" \")] for point in string_coords.split(\", \")]\n",
    "\n",
    "m1 = Point([22.5,22.5])\n",
    "m2 = MultiPoint(coords)\n",
    "\n",
    "print(np.std([distance(m1,geom) for geom in m2.geoms]))\n",
    "\n",
    "print(nearest_points(m1,m2))\n",
    "\n",
    "show([m1,m2])\n",
    "show([m1])"
   ]
  }
 ],
 "metadata": {
  "kernelspec": {
   "display_name": "Python 3",
   "language": "python",
   "name": "python3"
  },
  "language_info": {
   "codemirror_mode": {
    "name": "ipython",
    "version": 3
   },
   "file_extension": ".py",
   "mimetype": "text/x-python",
   "name": "python",
   "nbconvert_exporter": "python",
   "pygments_lexer": "ipython3",
   "version": "3.11.9"
  }
 },
 "nbformat": 4,
 "nbformat_minor": 2
}
